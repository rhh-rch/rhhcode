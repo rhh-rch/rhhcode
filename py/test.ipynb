{
 "cells": [
  {
   "cell_type": "code",
   "execution_count": 1,
   "id": "ac08b5a8-a16c-47c2-ad73-428d5d8e8152",
   "metadata": {},
   "outputs": [],
   "source": [
    "from gnsstools import rinex\n",
    "from gnsstools import gnsstime"
   ]
  },
  {
   "cell_type": "code",
   "execution_count": 2,
   "id": "cfba93c6-83de-466a-8e3d-2b044bbe9c8b",
   "metadata": {},
   "outputs": [],
   "source": [
    "filename = \"/home/rhh/LESH213a.24o\""
   ]
  },
  {
   "cell_type": "code",
   "execution_count": 3,
   "id": "a1bf492c-3b95-4929-9ec1-cb9aaa6ea0a8",
   "metadata": {},
   "outputs": [
    {
     "name": "stdout",
     "output_type": "stream",
     "text": [
      "OrderedDict([('Version', 3.03), ('Type', 'O'), ('TypeName', 'OBSERVATION'), ('System', 'M'), ('SystemName', 'MIXED'), ('PGM', 'GR50 V4.31'), ('RunBy', None), ('Date', '20240730 235942 UTC')])\n"
     ]
    }
   ],
   "source": [
    "df = rinex.load(filename)"
   ]
  },
  {
   "cell_type": "code",
   "execution_count": 9,
   "id": "6df64a3e-b17c-4ca4-be25-b21ca3ed3758",
   "metadata": {},
   "outputs": [
    {
     "name": "stdout",
     "output_type": "stream",
     "text": [
      "<class 'gnsstools.rinex.datasets.ObservationDataFrame'>\n"
     ]
    }
   ],
   "source": [
    "#print(df)\n",
    "print(type(df))\n",
    "date = gnsstime(2024, 7, 31, 0, 40, 15)\n"
   ]
  },
  {
   "cell_type": "code",
   "execution_count": 11,
   "id": "d078bdff",
   "metadata": {},
   "outputs": [
    {
     "name": "stdout",
     "output_type": "stream",
     "text": [
      "(145348, 49)\n",
      "Index(['C1C', 'C2C', 'C2I', 'C2P', 'C2S', 'C2W', 'C3Q', 'C5Q', 'C6I', 'C7I',\n",
      "       'C7Q', 'C8Q', 'D1C', 'D2C', 'D2I', 'D2P', 'D2S', 'D2W', 'D3Q', 'D5Q',\n",
      "       'D6I', 'D7I', 'D7Q', 'D8Q', 'L1C', 'L2C', 'L2I', 'L2P', 'L2S', 'L2W',\n",
      "       'L3Q', 'L5Q', 'L6I', 'L7I', 'L7Q', 'L8Q', 'S1C', 'S2C', 'S2I', 'S2P',\n",
      "       'S2S', 'S2W', 'S3Q', 'S5Q', 'S6I', 'S7I', 'S7Q', 'S8Q', 'Session'],\n",
      "      dtype='object')\n",
      "MultiIndex([('C',  1, '2024-07-31 00:00:00'),\n",
      "            ('C',  1, '2024-07-31 00:00:01'),\n",
      "            ('C',  1, '2024-07-31 00:00:02'),\n",
      "            ('C',  1, '2024-07-31 00:00:03'),\n",
      "            ('C',  1, '2024-07-31 00:00:04'),\n",
      "            ('C',  1, '2024-07-31 00:00:05'),\n",
      "            ('C',  1, '2024-07-31 00:00:06'),\n",
      "            ('C',  1, '2024-07-31 00:00:07'),\n",
      "            ('C',  1, '2024-07-31 00:00:08'),\n",
      "            ('C',  1, '2024-07-31 00:00:09'),\n",
      "            ...\n",
      "            ('S', 32, '2024-07-31 00:59:50'),\n",
      "            ('S', 32, '2024-07-31 00:59:51'),\n",
      "            ('S', 32, '2024-07-31 00:59:52'),\n",
      "            ('S', 32, '2024-07-31 00:59:53'),\n",
      "            ('S', 32, '2024-07-31 00:59:54'),\n",
      "            ('S', 32, '2024-07-31 00:59:55'),\n",
      "            ('S', 32, '2024-07-31 00:59:56'),\n",
      "            ('S', 32, '2024-07-31 00:59:57'),\n",
      "            ('S', 32, '2024-07-31 00:59:58'),\n",
      "            ('S', 32, '2024-07-31 00:59:59')],\n",
      "           names=['System', 'PRN', 'Date'], length=145348)\n",
      "                                C1C  C2C           C2I  C2P  C2S  C2W  C3Q  \\\n",
      "System PRN Date                                                              \n",
      "C      1   2024-07-31 00:00:00  NaN  NaN  3.795261e+07  NaN  NaN  NaN  NaN   \n",
      "           2024-07-31 00:00:01  NaN  NaN  3.795260e+07  NaN  NaN  NaN  NaN   \n",
      "           2024-07-31 00:00:02  NaN  NaN  3.795259e+07  NaN  NaN  NaN  NaN   \n",
      "           2024-07-31 00:00:03  NaN  NaN  3.795259e+07  NaN  NaN  NaN  NaN   \n",
      "           2024-07-31 00:00:04  NaN  NaN  3.795258e+07  NaN  NaN  NaN  NaN   \n",
      "\n",
      "                                C5Q           C6I           C7I  ...  S2P  \\\n",
      "System PRN Date                                                  ...        \n",
      "C      1   2024-07-31 00:00:00  NaN  3.795260e+07  3.795261e+07  ...  NaN   \n",
      "           2024-07-31 00:00:01  NaN  3.795260e+07  3.795260e+07  ...  NaN   \n",
      "           2024-07-31 00:00:02  NaN  3.795259e+07  3.795259e+07  ...  NaN   \n",
      "           2024-07-31 00:00:03  NaN  3.795258e+07  3.795259e+07  ...  NaN   \n",
      "           2024-07-31 00:00:04  NaN  3.795258e+07  3.795258e+07  ...  NaN   \n",
      "\n",
      "                                S2S  S2W  S3Q  S5Q    S6I    S7I  S7Q  S8Q  \\\n",
      "System PRN Date                                                              \n",
      "C      1   2024-07-31 00:00:00  NaN  NaN  NaN  NaN  39.65  42.05  NaN  NaN   \n",
      "           2024-07-31 00:00:01  NaN  NaN  NaN  NaN  39.85  42.00  NaN  NaN   \n",
      "           2024-07-31 00:00:02  NaN  NaN  NaN  NaN  39.80  42.00  NaN  NaN   \n",
      "           2024-07-31 00:00:03  NaN  NaN  NaN  NaN  39.90  42.25  NaN  NaN   \n",
      "           2024-07-31 00:00:04  NaN  NaN  NaN  NaN  39.90  42.55  NaN  NaN   \n",
      "\n",
      "                                Session  \n",
      "System PRN Date                          \n",
      "C      1   2024-07-31 00:00:00        1  \n",
      "           2024-07-31 00:00:01        2  \n",
      "           2024-07-31 00:00:02        3  \n",
      "           2024-07-31 00:00:03        4  \n",
      "           2024-07-31 00:00:04        5  \n",
      "\n",
      "[5 rows x 49 columns]\n",
      "                                         C1C  C2C  C2I  C2P  C2S  C2W  C3Q  \\\n",
      "System PRN Date                                                              \n",
      "S      32  2024-07-31 00:59:55  3.684212e+07  NaN  NaN  NaN  NaN  NaN  NaN   \n",
      "           2024-07-31 00:59:56  3.684212e+07  NaN  NaN  NaN  NaN  NaN  NaN   \n",
      "           2024-07-31 00:59:57  3.684212e+07  NaN  NaN  NaN  NaN  NaN  NaN   \n",
      "           2024-07-31 00:59:58  3.684212e+07  NaN  NaN  NaN  NaN  NaN  NaN   \n",
      "           2024-07-31 00:59:59  3.684212e+07  NaN  NaN  NaN  NaN  NaN  NaN   \n",
      "\n",
      "                                C5Q  C6I  C7I  ...  S2P  S2S  S2W  S3Q  S5Q  \\\n",
      "System PRN Date                                ...                            \n",
      "S      32  2024-07-31 00:59:55  NaN  NaN  NaN  ...  NaN  NaN  NaN  NaN  NaN   \n",
      "           2024-07-31 00:59:56  NaN  NaN  NaN  ...  NaN  NaN  NaN  NaN  NaN   \n",
      "           2024-07-31 00:59:57  NaN  NaN  NaN  ...  NaN  NaN  NaN  NaN  NaN   \n",
      "           2024-07-31 00:59:58  NaN  NaN  NaN  ...  NaN  NaN  NaN  NaN  NaN   \n",
      "           2024-07-31 00:59:59  NaN  NaN  NaN  ...  NaN  NaN  NaN  NaN  NaN   \n",
      "\n",
      "                                S6I  S7I  S7Q  S8Q  Session  \n",
      "System PRN Date                                              \n",
      "S      32  2024-07-31 00:59:55  NaN  NaN  NaN  NaN     3595  \n",
      "           2024-07-31 00:59:56  NaN  NaN  NaN  NaN     3596  \n",
      "           2024-07-31 00:59:57  NaN  NaN  NaN  NaN     3597  \n",
      "           2024-07-31 00:59:58  NaN  NaN  NaN  NaN     3598  \n",
      "           2024-07-31 00:59:59  NaN  NaN  NaN  NaN     3599  \n",
      "\n",
      "[5 rows x 49 columns]\n",
      "<class 'gnsstools.rinex.datasets.ObservationDataFrame'>\n",
      "MultiIndex: 145348 entries, ('C', np.int64(1), Timestamp('2024-07-31 00:00:00')) to ('S', np.int64(32), Timestamp('2024-07-31 00:59:59'))\n",
      "Data columns (total 49 columns):\n",
      " #   Column   Non-Null Count   Dtype  \n",
      "---  ------   --------------   -----  \n",
      " 0   C1C      95540 non-null   float64\n",
      " 1   C2C      20302 non-null   float64\n",
      " 2   C2I      48313 non-null   float64\n",
      " 3   C2P      20338 non-null   float64\n",
      " 4   C2S      32814 non-null   float64\n",
      " 5   C2W      28854 non-null   float64\n",
      " 6   C3Q      10504 non-null   float64\n",
      " 7   C5Q      43538 non-null   float64\n",
      " 8   C6I      31717 non-null   float64\n",
      " 9   C7I      33439 non-null   float64\n",
      " 10  C7Q      17064 non-null   float64\n",
      " 11  C8Q      17064 non-null   float64\n",
      " 12  D1C      95540 non-null   float64\n",
      " 13  D2C      20302 non-null   float64\n",
      " 14  D2I      48313 non-null   float64\n",
      " 15  D2P      20338 non-null   float64\n",
      " 16  D2S      32814 non-null   float64\n",
      " 17  D2W      28854 non-null   float64\n",
      " 18  D3Q      10504 non-null   float64\n",
      " 19  D5Q      43538 non-null   float64\n",
      " 20  D6I      31717 non-null   float64\n",
      " 21  D7I      33439 non-null   float64\n",
      " 22  D7Q      17064 non-null   float64\n",
      " 23  D8Q      17064 non-null   float64\n",
      " 24  L1C      94992 non-null   float64\n",
      " 25  L2C      20133 non-null   float64\n",
      " 26  L2I      47474 non-null   float64\n",
      " 27  L2P      20217 non-null   float64\n",
      " 28  L2S      32814 non-null   float64\n",
      " 29  L2W      28578 non-null   float64\n",
      " 30  L3Q      10504 non-null   float64\n",
      " 31  L5Q      43538 non-null   float64\n",
      " 32  L6I      31648 non-null   float64\n",
      " 33  L7I      32600 non-null   float64\n",
      " 34  L7Q      17064 non-null   float64\n",
      " 35  L8Q      17064 non-null   float64\n",
      " 36  S1C      95540 non-null   float64\n",
      " 37  S2C      20302 non-null   float64\n",
      " 38  S2I      48313 non-null   float64\n",
      " 39  S2P      20338 non-null   float64\n",
      " 40  S2S      32814 non-null   float64\n",
      " 41  S2W      28854 non-null   float64\n",
      " 42  S3Q      10504 non-null   float64\n",
      " 43  S5Q      43538 non-null   float64\n",
      " 44  S6I      31717 non-null   float64\n",
      " 45  S7I      33439 non-null   float64\n",
      " 46  S7Q      17064 non-null   float64\n",
      " 47  S8Q      17064 non-null   float64\n",
      " 48  Session  145348 non-null  int64  \n",
      "dtypes: float64(48), int64(1)\n",
      "memory usage: 55.0+ MB\n",
      "None\n"
     ]
    }
   ],
   "source": [
    "# DataFrame 的属性和方法\n",
    "print(df.shape)     # 形状\n",
    "print(df.columns)   # 列名\n",
    "print(df.index)     # 索引\n",
    "print(df.head())    # 前几行数据，默认是前 5 行\n",
    "print(df.tail())    # 后几行数据，默认是后 5 行\n",
    "print(df.info())    # 数据信息\n"
   ]
  }
 ],
 "metadata": {
  "kernelspec": {
   "display_name": "Python 3 (ipykernel)",
   "language": "python",
   "name": "python3"
  },
  "language_info": {
   "codemirror_mode": {
    "name": "ipython",
    "version": 3
   },
   "file_extension": ".py",
   "mimetype": "text/x-python",
   "name": "python",
   "nbconvert_exporter": "python",
   "pygments_lexer": "ipython3",
   "version": "3.10.12"
  }
 },
 "nbformat": 4,
 "nbformat_minor": 5
}
